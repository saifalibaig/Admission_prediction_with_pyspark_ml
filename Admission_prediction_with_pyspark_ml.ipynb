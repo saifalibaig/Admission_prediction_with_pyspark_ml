{
  "nbformat": 4,
  "nbformat_minor": 0,
  "metadata": {
    "colab": {
      "provenance": []
    },
    "kernelspec": {
      "name": "python3",
      "display_name": "Python 3"
    }
  },
  "cells": [
    {
      "cell_type": "markdown",
      "metadata": {
        "id": "rZtskxrQyg3e"
      },
      "source": [
        "# TASK 1 : Install Dependencies & Run a SparkSession\n"
      ]
    },
    {
      "cell_type": "code",
      "metadata": {
        "id": "a9huiQF8yfIK",
        "colab": {
          "base_uri": "https://localhost:8080/"
        },
        "outputId": "02630db2-1a1e-48c1-9f26-629cfe14800b"
      },
      "source": [
        "#install pyspark\n",
        "! pip install pyspark"
      ],
      "execution_count": null,
      "outputs": [
        {
          "output_type": "stream",
          "name": "stdout",
          "text": [
            "Requirement already satisfied: pyspark in /usr/local/lib/python3.11/dist-packages (3.5.4)\n",
            "Requirement already satisfied: py4j==0.10.9.7 in /usr/local/lib/python3.11/dist-packages (from pyspark) (0.10.9.7)\n"
          ]
        }
      ]
    },
    {
      "cell_type": "code",
      "metadata": {
        "id": "1wZpO2gxy7Pt"
      },
      "source": [
        "#create a sparksessio\n",
        "from pyspark.sql import SparkSession\n",
        "spark = SparkSession.builder.appName('spark').getOrCreate()\n",
        "\n",
        "#getOrCreate checks if an existing session with the same name is present, if not it creates a new session"
      ],
      "execution_count": null,
      "outputs": []
    },
    {
      "cell_type": "markdown",
      "metadata": {
        "id": "8t7JFc_My__A"
      },
      "source": [
        "# TASK 2 : Clone & Explore dataset"
      ]
    },
    {
      "cell_type": "code",
      "metadata": {
        "id": "C0oRpI4ezFgc",
        "colab": {
          "base_uri": "https://localhost:8080/"
        },
        "outputId": "39c62ead-e6dd-4443-e06a-2ca856843a6b"
      },
      "source": [
        "#clone the dataset\n",
        "! git clone https://github.com/education454/admission_dataset"
      ],
      "execution_count": null,
      "outputs": [
        {
          "output_type": "stream",
          "name": "stdout",
          "text": [
            "Cloning into 'admission_dataset'...\n",
            "remote: Enumerating objects: 3, done.\u001b[K\n",
            "remote: Counting objects: 100% (3/3), done.\u001b[K\n",
            "remote: Compressing objects: 100% (3/3), done.\u001b[K\n",
            "remote: Total 3 (delta 0), reused 0 (delta 0), pack-reused 0 (from 0)\u001b[K\n",
            "Receiving objects: 100% (3/3), 5.60 KiB | 5.60 MiB/s, done.\n"
          ]
        }
      ]
    },
    {
      "cell_type": "code",
      "metadata": {
        "id": "Evfd9ACizers",
        "colab": {
          "base_uri": "https://localhost:8080/"
        },
        "outputId": "838cb897-1145-482d-d748-3b6e34c12c44"
      },
      "source": [
        "#check the presence of dataset\n",
        "! ls admission_dataset"
      ],
      "execution_count": null,
      "outputs": [
        {
          "output_type": "stream",
          "name": "stdout",
          "text": [
            "Admission_Predict_Ver1.1.csv\n"
          ]
        }
      ]
    },
    {
      "cell_type": "code",
      "metadata": {
        "id": "q6sF2NVazjtU"
      },
      "source": [
        "#create a spark dataframe\n",
        "df = spark.read.csv('/content/admission_dataset/Admission_Predict_Ver1.1.csv' , header = True , inferSchema= True)\n",
        "#inferschema auto checks the datatypes"
      ],
      "execution_count": null,
      "outputs": []
    },
    {
      "cell_type": "code",
      "metadata": {
        "id": "cG6UhIUuznfJ",
        "colab": {
          "base_uri": "https://localhost:8080/"
        },
        "outputId": "f60ee7f0-e816-440e-8e82-cad2af53e24d"
      },
      "source": [
        "#display dataframe\n",
        "df.show()"
      ],
      "execution_count": null,
      "outputs": [
        {
          "output_type": "stream",
          "name": "stdout",
          "text": [
            "+---------+---------+-----------+-----------------+---+---+----+--------+---------------+\n",
            "|Serial No|GRE Score|TOEFL Score|University Rating|SOP|LOR|CGPA|Research|Chance of Admit|\n",
            "+---------+---------+-----------+-----------------+---+---+----+--------+---------------+\n",
            "|        1|      337|        118|                4|4.5|4.5|9.65|       1|           0.92|\n",
            "|        2|      324|        107|                4|4.0|4.5|8.87|       1|           0.76|\n",
            "|        3|      316|        104|                3|3.0|3.5| 8.0|       1|           0.72|\n",
            "|        4|      322|        110|                3|3.5|2.5|8.67|       1|            0.8|\n",
            "|        5|      314|        103|                2|2.0|3.0|8.21|       0|           0.65|\n",
            "|        6|      330|        115|                5|4.5|3.0|9.34|       1|            0.9|\n",
            "|        7|      321|        109|                3|3.0|4.0| 8.2|       1|           0.75|\n",
            "|        8|      308|        101|                2|3.0|4.0| 7.9|       0|           0.68|\n",
            "|        9|      302|        102|                1|2.0|1.5| 8.0|       0|            0.5|\n",
            "|       10|      323|        108|                3|3.5|3.0| 8.6|       0|           0.45|\n",
            "|       11|      325|        106|                3|3.5|4.0| 8.4|       1|           0.52|\n",
            "|       12|      327|        111|                4|4.0|4.5| 9.0|       1|           0.84|\n",
            "|       13|      328|        112|                4|4.0|4.5| 9.1|       1|           0.78|\n",
            "|       14|      307|        109|                3|4.0|3.0| 8.0|       1|           0.62|\n",
            "|       15|      311|        104|                3|3.5|2.0| 8.2|       1|           0.61|\n",
            "|       16|      314|        105|                3|3.5|2.5| 8.3|       0|           0.54|\n",
            "|       17|      317|        107|                3|4.0|3.0| 8.7|       0|           0.66|\n",
            "|       18|      319|        106|                3|4.0|3.0| 8.0|       1|           0.65|\n",
            "|       19|      318|        110|                3|4.0|3.0| 8.8|       0|           0.63|\n",
            "|       20|      303|        102|                3|3.5|3.0| 8.5|       0|           0.62|\n",
            "+---------+---------+-----------+-----------------+---+---+----+--------+---------------+\n",
            "only showing top 20 rows\n",
            "\n"
          ]
        }
      ]
    },
    {
      "cell_type": "code",
      "metadata": {
        "id": "tgtWocArzqVR",
        "colab": {
          "base_uri": "https://localhost:8080/"
        },
        "outputId": "3a7f4a52-6863-454f-9618-1bf3f2a81090"
      },
      "source": [
        "#get the no.of  columns\n",
        "print(df.count(),len(df.columns))"
      ],
      "execution_count": null,
      "outputs": [
        {
          "output_type": "stream",
          "name": "stdout",
          "text": [
            "500 9\n"
          ]
        }
      ]
    },
    {
      "cell_type": "code",
      "metadata": {
        "id": "OWQTe006zt7O",
        "colab": {
          "base_uri": "https://localhost:8080/"
        },
        "outputId": "060bbcbf-16e6-48db-a659-275f9b42851e"
      },
      "source": [
        "#print schema\n",
        "df.printSchema()"
      ],
      "execution_count": null,
      "outputs": [
        {
          "output_type": "stream",
          "name": "stdout",
          "text": [
            "root\n",
            " |-- Serial No: integer (nullable = true)\n",
            " |-- GRE Score: integer (nullable = true)\n",
            " |-- TOEFL Score: integer (nullable = true)\n",
            " |-- University Rating: integer (nullable = true)\n",
            " |-- SOP: double (nullable = true)\n",
            " |-- LOR: double (nullable = true)\n",
            " |-- CGPA: double (nullable = true)\n",
            " |-- Research: integer (nullable = true)\n",
            " |-- Chance of Admit: double (nullable = true)\n",
            "\n"
          ]
        }
      ]
    },
    {
      "cell_type": "code",
      "metadata": {
        "id": "locEx8HDz264",
        "colab": {
          "base_uri": "https://localhost:8080/"
        },
        "outputId": "c003ecb6-2f37-4394-b81b-8598b76f3664"
      },
      "source": [
        "#get the summary statistics\n",
        "df.describe().show()\n"
      ],
      "execution_count": null,
      "outputs": [
        {
          "output_type": "stream",
          "name": "stdout",
          "text": [
            "+-------+-----------------+------------------+-----------------+-----------------+------------------+------------------+------------------+------------------+-------------------+\n",
            "|summary|        Serial No|         GRE Score|      TOEFL Score|University Rating|               SOP|               LOR|              CGPA|          Research|    Chance of Admit|\n",
            "+-------+-----------------+------------------+-----------------+-----------------+------------------+------------------+------------------+------------------+-------------------+\n",
            "|  count|              500|               500|              500|              500|               500|               500|               500|               500|                500|\n",
            "|   mean|            250.5|           316.472|          107.192|            3.114|             3.374|             3.484| 8.576440000000003|              0.56| 0.7217399999999996|\n",
            "| stddev|144.4818327679989|11.295148372354712|6.081867659564538|1.143511800759815|0.9910036207566072|0.9254495738978191|0.6048128003332054|0.4968840786090358|0.14114040395030228|\n",
            "|    min|                1|               290|               92|                1|               1.0|               1.0|               6.8|                 0|               0.34|\n",
            "|    max|              500|               340|              120|                5|               5.0|               5.0|              9.92|                 1|               0.97|\n",
            "+-------+-----------------+------------------+-----------------+-----------------+------------------+------------------+------------------+------------------+-------------------+\n",
            "\n"
          ]
        }
      ]
    },
    {
      "cell_type": "markdown",
      "metadata": {
        "id": "6uDdoEKsz6h6"
      },
      "source": [
        "# TASK 3 : Data Cleaning"
      ]
    },
    {
      "cell_type": "code",
      "metadata": {
        "id": "o6gJAFo30G9s"
      },
      "source": [
        "#drop the unnecessary column\n",
        "df = df.drop('Serial No')\n"
      ],
      "execution_count": null,
      "outputs": []
    },
    {
      "cell_type": "code",
      "metadata": {
        "id": "_lOPoDVk0OFH",
        "colab": {
          "base_uri": "https://localhost:8080/"
        },
        "outputId": "7a48fd87-9a4e-4ea7-ae2b-faf5ff360325"
      },
      "source": [
        "#display the dataframe\n",
        "df.show()"
      ],
      "execution_count": null,
      "outputs": [
        {
          "output_type": "stream",
          "name": "stdout",
          "text": [
            "+---------+-----------+-----------------+---+---+----+--------+---------------+\n",
            "|GRE Score|TOEFL Score|University Rating|SOP|LOR|CGPA|Research|Chance of Admit|\n",
            "+---------+-----------+-----------------+---+---+----+--------+---------------+\n",
            "|      337|        118|                4|4.5|4.5|9.65|       1|           0.92|\n",
            "|      324|        107|                4|4.0|4.5|8.87|       1|           0.76|\n",
            "|      316|        104|                3|3.0|3.5| 8.0|       1|           0.72|\n",
            "|      322|        110|                3|3.5|2.5|8.67|       1|            0.8|\n",
            "|      314|        103|                2|2.0|3.0|8.21|       0|           0.65|\n",
            "|      330|        115|                5|4.5|3.0|9.34|       1|            0.9|\n",
            "|      321|        109|                3|3.0|4.0| 8.2|       1|           0.75|\n",
            "|      308|        101|                2|3.0|4.0| 7.9|       0|           0.68|\n",
            "|      302|        102|                1|2.0|1.5| 8.0|       0|            0.5|\n",
            "|      323|        108|                3|3.5|3.0| 8.6|       0|           0.45|\n",
            "|      325|        106|                3|3.5|4.0| 8.4|       1|           0.52|\n",
            "|      327|        111|                4|4.0|4.5| 9.0|       1|           0.84|\n",
            "|      328|        112|                4|4.0|4.5| 9.1|       1|           0.78|\n",
            "|      307|        109|                3|4.0|3.0| 8.0|       1|           0.62|\n",
            "|      311|        104|                3|3.5|2.0| 8.2|       1|           0.61|\n",
            "|      314|        105|                3|3.5|2.5| 8.3|       0|           0.54|\n",
            "|      317|        107|                3|4.0|3.0| 8.7|       0|           0.66|\n",
            "|      319|        106|                3|4.0|3.0| 8.0|       1|           0.65|\n",
            "|      318|        110|                3|4.0|3.0| 8.8|       0|           0.63|\n",
            "|      303|        102|                3|3.5|3.0| 8.5|       0|           0.62|\n",
            "+---------+-----------+-----------------+---+---+----+--------+---------------+\n",
            "only showing top 20 rows\n",
            "\n"
          ]
        }
      ]
    },
    {
      "cell_type": "code",
      "metadata": {
        "id": "Au73oUZJ0Qv7",
        "colab": {
          "base_uri": "https://localhost:8080/"
        },
        "outputId": "4718c7ec-4f33-443c-e114-ad229893e859"
      },
      "source": [
        "#check for null values\n",
        "for i in df.columns:\n",
        "  print(i+ \":\" , df[df[i].isNull()].count())"
      ],
      "execution_count": null,
      "outputs": [
        {
          "output_type": "stream",
          "name": "stdout",
          "text": [
            "GRE Score: 0\n",
            "TOEFL Score: 0\n",
            "University Rating: 0\n",
            "SOP: 0\n",
            "LOR: 0\n",
            "CGPA: 0\n",
            "Research: 0\n",
            "Chance of Admit: 0\n"
          ]
        }
      ]
    },
    {
      "cell_type": "markdown",
      "metadata": {
        "id": "prkDI9Dc0SoH"
      },
      "source": [
        "# TASK 4 : Correlation Analysis & Feature Selection"
      ]
    },
    {
      "cell_type": "code",
      "metadata": {
        "id": "eFhxSRRj0Ypa",
        "colab": {
          "base_uri": "https://localhost:8080/"
        },
        "outputId": "ac068aac-a56b-4806-9885-f5c1c56e7fda"
      },
      "source": [
        "# correlation analysis\n",
        "for i in df.columns:\n",
        "  print('Correlation to chance of Admit col for {} is {}'.format(i,df.stat.corr('Chance of Admit' , i)))\n"
      ],
      "execution_count": null,
      "outputs": [
        {
          "output_type": "stream",
          "name": "stdout",
          "text": [
            "Correlation to chance of Admit col for GRE Score is 0.8103506354632598\n",
            "Correlation to chance of Admit col for TOEFL Score is 0.7922276143050823\n",
            "Correlation to chance of Admit col for University Rating is 0.6901323687886892\n",
            "Correlation to chance of Admit col for SOP is 0.6841365241316723\n",
            "Correlation to chance of Admit col for LOR is 0.6453645135280112\n",
            "Correlation to chance of Admit col for CGPA is 0.882412574904574\n",
            "Correlation to chance of Admit col for Research is 0.5458710294711379\n",
            "Correlation to chance of Admit col for Chance of Admit is 1.0\n"
          ]
        }
      ]
    },
    {
      "cell_type": "markdown",
      "source": [
        "Pick the column with the highest correlation score which in my case is :\n",
        "* GRE => 0.8103506354632598\n",
        "* CGPA =>  0.882412574904574\n",
        "* TOEFL => 0.7922276143050823"
      ],
      "metadata": {
        "id": "M6wKDNCC2YVs"
      }
    },
    {
      "cell_type": "code",
      "metadata": {
        "id": "UXNOknvo0dV2"
      },
      "source": [
        "# feature selection\n",
        "from pyspark.ml.feature import VectorAssembler\n",
        "# transformation -> to merge multiple columns into a vector column\n",
        "assembler = VectorAssembler(inputCols=['GRE Score' , 'TOEFL Score' , 'CGPA' ] , outputCol='features')"
      ],
      "execution_count": null,
      "outputs": []
    },
    {
      "cell_type": "code",
      "metadata": {
        "id": "JOzlkPaz0ibL",
        "colab": {
          "base_uri": "https://localhost:8080/"
        },
        "outputId": "740bb0b0-002a-4f0f-e4fa-ff27a0b4d3e2"
      },
      "source": [
        "#display dataframe\n",
        "output_data = assembler.transform(df)\n",
        "output_data.show()"
      ],
      "execution_count": null,
      "outputs": [
        {
          "output_type": "stream",
          "name": "stdout",
          "text": [
            "+---------+-----------+-----------------+---+---+----+--------+---------------+------------------+\n",
            "|GRE Score|TOEFL Score|University Rating|SOP|LOR|CGPA|Research|Chance of Admit|          features|\n",
            "+---------+-----------+-----------------+---+---+----+--------+---------------+------------------+\n",
            "|      337|        118|                4|4.5|4.5|9.65|       1|           0.92|[337.0,118.0,9.65]|\n",
            "|      324|        107|                4|4.0|4.5|8.87|       1|           0.76|[324.0,107.0,8.87]|\n",
            "|      316|        104|                3|3.0|3.5| 8.0|       1|           0.72| [316.0,104.0,8.0]|\n",
            "|      322|        110|                3|3.5|2.5|8.67|       1|            0.8|[322.0,110.0,8.67]|\n",
            "|      314|        103|                2|2.0|3.0|8.21|       0|           0.65|[314.0,103.0,8.21]|\n",
            "|      330|        115|                5|4.5|3.0|9.34|       1|            0.9|[330.0,115.0,9.34]|\n",
            "|      321|        109|                3|3.0|4.0| 8.2|       1|           0.75| [321.0,109.0,8.2]|\n",
            "|      308|        101|                2|3.0|4.0| 7.9|       0|           0.68| [308.0,101.0,7.9]|\n",
            "|      302|        102|                1|2.0|1.5| 8.0|       0|            0.5| [302.0,102.0,8.0]|\n",
            "|      323|        108|                3|3.5|3.0| 8.6|       0|           0.45| [323.0,108.0,8.6]|\n",
            "|      325|        106|                3|3.5|4.0| 8.4|       1|           0.52| [325.0,106.0,8.4]|\n",
            "|      327|        111|                4|4.0|4.5| 9.0|       1|           0.84| [327.0,111.0,9.0]|\n",
            "|      328|        112|                4|4.0|4.5| 9.1|       1|           0.78| [328.0,112.0,9.1]|\n",
            "|      307|        109|                3|4.0|3.0| 8.0|       1|           0.62| [307.0,109.0,8.0]|\n",
            "|      311|        104|                3|3.5|2.0| 8.2|       1|           0.61| [311.0,104.0,8.2]|\n",
            "|      314|        105|                3|3.5|2.5| 8.3|       0|           0.54| [314.0,105.0,8.3]|\n",
            "|      317|        107|                3|4.0|3.0| 8.7|       0|           0.66| [317.0,107.0,8.7]|\n",
            "|      319|        106|                3|4.0|3.0| 8.0|       1|           0.65| [319.0,106.0,8.0]|\n",
            "|      318|        110|                3|4.0|3.0| 8.8|       0|           0.63| [318.0,110.0,8.8]|\n",
            "|      303|        102|                3|3.5|3.0| 8.5|       0|           0.62| [303.0,102.0,8.5]|\n",
            "+---------+-----------+-----------------+---+---+----+--------+---------------+------------------+\n",
            "only showing top 20 rows\n",
            "\n"
          ]
        }
      ]
    },
    {
      "cell_type": "markdown",
      "metadata": {
        "id": "l6FucLAC0r5I"
      },
      "source": [
        "# TASK 5 : Build the Linear Regression Model"
      ]
    },
    {
      "cell_type": "code",
      "metadata": {
        "id": "RMYN_8jJ0wDR"
      },
      "source": [
        "#import Linearregression and create final data\n",
        "from pyspark.ml.regression import LinearRegression\n",
        "final_data = output_data.select('features' , 'Chance of Admit')"
      ],
      "execution_count": null,
      "outputs": []
    },
    {
      "cell_type": "code",
      "metadata": {
        "id": "MNSEfLCp09oO",
        "colab": {
          "base_uri": "https://localhost:8080/"
        },
        "outputId": "c6f67607-dd09-4ab0-ecc5-6e4433c61a31"
      },
      "source": [
        "#print schema of final data\n",
        "final_data.printSchema()"
      ],
      "execution_count": null,
      "outputs": [
        {
          "output_type": "stream",
          "name": "stdout",
          "text": [
            "root\n",
            " |-- features: vector (nullable = true)\n",
            " |-- Chance of Admit: double (nullable = true)\n",
            "\n"
          ]
        }
      ]
    },
    {
      "cell_type": "code",
      "metadata": {
        "id": "vOJylIiS1Dre"
      },
      "source": [
        "#split the dataset into training and testing set\n",
        "train , test = final_data.randomSplit([0.7,0.3])"
      ],
      "execution_count": null,
      "outputs": []
    },
    {
      "cell_type": "code",
      "metadata": {
        "id": "xoxFzm4A1Hee"
      },
      "source": [
        "#build & train the model\n",
        "models = LinearRegression(featuresCol='features' , labelCol='Chance of Admit')\n",
        "model = models.fit(train)\n"
      ],
      "execution_count": null,
      "outputs": []
    },
    {
      "cell_type": "code",
      "metadata": {
        "id": "DDCZ9uvA1QLf",
        "colab": {
          "base_uri": "https://localhost:8080/"
        },
        "outputId": "d5945fdd-27c9-40a4-ac39-da7f3540853c"
      },
      "source": [
        "#get coefficients & intercept\n",
        "print('coefficents:' , model.coefficients)\n",
        "print('intercept:' , model.intercept)"
      ],
      "execution_count": null,
      "outputs": [
        {
          "output_type": "stream",
          "name": "stdout",
          "text": [
            "coefficents: [0.0020182916153442484,0.0025620949324366006,0.15462131150475644]\n",
            "intercept: -1.5181070071640972\n"
          ]
        }
      ]
    },
    {
      "cell_type": "code",
      "metadata": {
        "id": "bO6Duj1l1YJX"
      },
      "source": [
        "#get summary of the model\n",
        "summary = model.summary"
      ],
      "execution_count": null,
      "outputs": []
    },
    {
      "cell_type": "code",
      "metadata": {
        "id": "ebi9LxFS1aBJ",
        "colab": {
          "base_uri": "https://localhost:8080/"
        },
        "outputId": "01c1e8c8-7724-4bdb-dbab-9d29a3b0951f"
      },
      "source": [
        "#print the rmse & r2 score\n",
        "print('RMSE' , summary.rootMeanSquaredError) # error within the predicted value and the observed value (how well it performed) lesser the better\n",
        "print('r2' , summary.r2) #how close it is to the fitted line -> higher the better"
      ],
      "execution_count": null,
      "outputs": [
        {
          "output_type": "stream",
          "name": "stdout",
          "text": [
            "RMSE 0.06200610035561955\n",
            "r2 0.8030872179674469\n"
          ]
        }
      ]
    },
    {
      "cell_type": "markdown",
      "metadata": {
        "id": "b5lTskfK1eKV"
      },
      "source": [
        "# TASK 6 : Evaluate & Save the Model"
      ]
    },
    {
      "cell_type": "code",
      "metadata": {
        "id": "l0TAwvGP1noC"
      },
      "source": [
        "#transform on the test data\n",
        "predictions = model.transform(test)"
      ],
      "execution_count": null,
      "outputs": []
    },
    {
      "cell_type": "code",
      "metadata": {
        "id": "T_DixZ6f1nvP",
        "colab": {
          "base_uri": "https://localhost:8080/"
        },
        "outputId": "b04167af-080c-4fab-8862-95dbd654cd84"
      },
      "source": [
        "#display the predictions\n",
        "predictions.show(20)"
      ],
      "execution_count": null,
      "outputs": [
        {
          "output_type": "stream",
          "name": "stdout",
          "text": [
            "+------------------+---------------+-------------------+\n",
            "|          features|Chance of Admit|         prediction|\n",
            "+------------------+---------------+-------------------+\n",
            "|[290.0,100.0,7.56]|           0.47|0.49234416950535365|\n",
            "| [294.0,95.0,7.64]|           0.49|0.49997656622492825|\n",
            "| [296.0,95.0,7.54]|           0.44| 0.4885510183051409|\n",
            "| [297.0,96.0,7.89]|           0.43| 0.5472488638795865|\n",
            "| [297.0,98.0,7.67]|           0.59| 0.5183563652134133|\n",
            "| [298.0,92.0,7.88]|           0.51| 0.5374725626501367|\n",
            "|  [298.0,98.0,7.5]|           0.44| 0.4940890338729489|\n",
            "| [298.0,98.0,8.03]|           0.34| 0.5760383289704698|\n",
            "| [298.0,99.0,7.46]|           0.53|0.49046627634519546|\n",
            "|[298.0,100.0,7.95]|           0.58| 0.5687928139149625|\n",
            "| [299.0,94.0,7.34]|           0.42|0.46111953591778576|\n",
            "|[299.0,100.0,7.89]|           0.59| 0.5615338268400214|\n",
            "| [299.0,106.0,8.4]|           0.64| 0.6557632653020671|\n",
            "| [300.0,95.0,8.22]|           0.62| 0.6017666765897525|\n",
            "|[300.0,100.0,8.26]|           0.62| 0.6207620037121255|\n",
            "|[300.0,100.0,8.66]|           0.64| 0.6826105283140282|\n",
            "|[300.0,101.0,7.88]|           0.59| 0.5645680002727549|\n",
            "|[300.0,104.0,8.16]|           0.71| 0.6155482522913964|\n",
            "| [301.0,98.0,8.03]|           0.67| 0.5820932038165025|\n",
            "|[301.0,102.0,8.13]|           0.68| 0.6078037146967248|\n",
            "+------------------+---------------+-------------------+\n",
            "only showing top 20 rows\n",
            "\n"
          ]
        }
      ]
    },
    {
      "cell_type": "code",
      "metadata": {
        "id": "vzxDnudZ1n3n",
        "colab": {
          "base_uri": "https://localhost:8080/"
        },
        "outputId": "a72aebf8-be91-4a0c-f856-1bf1d61d3ee5"
      },
      "source": [
        "#evaluate the model\n",
        "\n",
        "from pyspark.ml.evaluation import RegressionEvaluator\n",
        "evaluator = RegressionEvaluator(predictionCol ='prediction' , labelCol ='Chance of Admit' , metricName = 'r2')\n",
        "print('r2 on the test data' , evaluator.evaluate(predictions))\n"
      ],
      "execution_count": null,
      "outputs": [
        {
          "output_type": "stream",
          "name": "stdout",
          "text": [
            "r2 on the test data 0.8056535864834586\n"
          ]
        }
      ]
    },
    {
      "cell_type": "code",
      "metadata": {
        "id": "WEeyiruX1n_I"
      },
      "source": [
        "#save the model\n",
        "model.save(\"model\")"
      ],
      "execution_count": null,
      "outputs": []
    },
    {
      "cell_type": "code",
      "metadata": {
        "id": "PK48FYRd2CMJ"
      },
      "source": [
        "#load the model\n",
        "from pyspark.ml.regression import LinearRegressionModel\n",
        "model = LinearRegressionModel.load(\"model\")\n"
      ],
      "execution_count": null,
      "outputs": []
    },
    {
      "cell_type": "code",
      "source": [],
      "metadata": {
        "id": "nhQMKCEH8wcI"
      },
      "execution_count": null,
      "outputs": []
    }
  ]
}